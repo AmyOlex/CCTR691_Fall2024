{
 "cells": [
  {
   "cell_type": "markdown",
   "id": "6714ae05-e30a-4f2a-bef2-9def474149da",
   "metadata": {},
   "source": [
    "# Hello World Lab\n",
    "\n",
    "This notebook is the first CCTR691 lab."
   ]
  },
  {
   "cell_type": "code",
   "execution_count": 4,
   "id": "e0d69d49-dd8b-40ca-a283-055e37bc8038",
   "metadata": {},
   "outputs": [
    {
     "name": "stdout",
     "output_type": "stream",
     "text": [
      "Hello World\n"
     ]
    }
   ],
   "source": [
    "print(\"Hello World\")"
   ]
  },
  {
   "cell_type": "code",
   "execution_count": null,
   "id": "16ba4bf1-695b-4c22-ab6e-b20400e4724f",
   "metadata": {},
   "outputs": [],
   "source": []
  }
 ],
 "metadata": {
  "kernelspec": {
   "display_name": "Python 3 (ipykernel)",
   "language": "python",
   "name": "python3"
  },
  "language_info": {
   "codemirror_mode": {
    "name": "ipython",
    "version": 3
   },
   "file_extension": ".py",
   "mimetype": "text/x-python",
   "name": "python",
   "nbconvert_exporter": "python",
   "pygments_lexer": "ipython3",
   "version": "3.9.18"
  }
 },
 "nbformat": 4,
 "nbformat_minor": 5
}
